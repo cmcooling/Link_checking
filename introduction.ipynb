{
 "cells": [
  {
   "cell_type": "markdown",
   "metadata": {},
   "source": [
    "[Notebook broken url](https://broken_markdown_1237850.com)\n",
    "\n",
    "[Notebook broken internal link](absent_file.md)\n",
    "\n",
    "[Notebook Working link](https://www.google.com)"
   ]
  }
 ],
 "metadata": {
  "language_info": {
   "name": "python"
  }
 },
 "nbformat": 4,
 "nbformat_minor": 2
}
